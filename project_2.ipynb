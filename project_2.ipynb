{
  "cells": [
    {
      "cell_type": "markdown",
      "metadata": {
        "id": "view-in-github",
        "colab_type": "text"
      },
      "source": [
        "<a href=\"https://colab.research.google.com/github/Mohamed-afk-lang/AI-Cancer-Dataset/blob/main/project_2.ipynb\" target=\"_parent\"><img src=\"https://colab.research.google.com/assets/colab-badge.svg\" alt=\"Open In Colab\"/></a>"
      ]
    },
    {
      "cell_type": "markdown",
      "id": "c7935755",
      "metadata": {
        "id": "c7935755"
      },
      "source": [
        "## Project: Deep Learning - CNN Classification\n",
        "## Dataset: MNIST Handwritten Digits (from keras)"
      ]
    },
    {
      "cell_type": "markdown",
      "id": "4ede36ca",
      "metadata": {
        "id": "4ede36ca"
      },
      "source": [
        "##### Step 1: Import Libraries"
      ]
    },
    {
      "cell_type": "code",
      "execution_count": 1,
      "id": "579b1b33",
      "metadata": {
        "id": "579b1b33"
      },
      "outputs": [],
      "source": [
        "import numpy as np\n",
        "import matplotlib.pyplot as plt\n",
        "import seaborn as sns\n",
        "\n",
        "from tensorflow.keras.datasets import mnist\n",
        "from tensorflow.keras.models import Sequential\n",
        "from tensorflow.keras.layers import Conv2D, MaxPooling2D, Flatten, Dense, Dropout\n",
        "from tensorflow.keras.utils import to_categorical"
      ]
    },
    {
      "cell_type": "markdown",
      "id": "2f1c73f0",
      "metadata": {
        "id": "2f1c73f0"
      },
      "source": [
        "##### Step 2: Load Dataset"
      ]
    },
    {
      "cell_type": "code",
      "execution_count": 2,
      "id": "0703d28d",
      "metadata": {
        "colab": {
          "base_uri": "https://localhost:8080/"
        },
        "id": "0703d28d",
        "outputId": "a7488f54-046c-4c6b-b0be-c4e6d27c8ad5"
      },
      "outputs": [
        {
          "output_type": "stream",
          "name": "stdout",
          "text": [
            "Downloading data from https://storage.googleapis.com/tensorflow/tf-keras-datasets/mnist.npz\n",
            "\u001b[1m11490434/11490434\u001b[0m \u001b[32m━━━━━━━━━━━━━━━━━━━━\u001b[0m\u001b[37m\u001b[0m \u001b[1m0s\u001b[0m 0us/step\n"
          ]
        }
      ],
      "source": [
        "# Load MNIST dataset from keras\n",
        "(X_train, y_train), (X_test, y_test) = mnist.load_data()"
      ]
    },
    {
      "cell_type": "markdown",
      "id": "cc670a5b",
      "metadata": {
        "id": "cc670a5b"
      },
      "source": [
        "##### TODO: Normalize the images (divide by 255.0)\n"
      ]
    },
    {
      "cell_type": "code",
      "execution_count": 3,
      "id": "0eef0984",
      "metadata": {
        "id": "0eef0984"
      },
      "outputs": [],
      "source": [
        "X_train = X_train.astype('float32') / 255.0\n",
        "X_test = X_test.astype('float32') / 255.0"
      ]
    },
    {
      "cell_type": "markdown",
      "id": "33e13e49",
      "metadata": {
        "id": "33e13e49"
      },
      "source": [
        "##### TODO: Reshape the data to include channel dimension (28,28,1)\n"
      ]
    },
    {
      "cell_type": "code",
      "execution_count": 4,
      "id": "251d9496",
      "metadata": {
        "id": "251d9496"
      },
      "outputs": [],
      "source": [
        "X_train = X_train.reshape(-1, 28, 28, 1)\n",
        "X_test = X_test.reshape(-1, 28, 28, 1)"
      ]
    },
    {
      "cell_type": "markdown",
      "id": "1385bed5",
      "metadata": {
        "id": "1385bed5"
      },
      "source": [
        "##### TODO: One-hot encode the labels using to_categorical\n"
      ]
    },
    {
      "cell_type": "code",
      "execution_count": 5,
      "id": "a1cdd4d4",
      "metadata": {
        "id": "a1cdd4d4"
      },
      "outputs": [],
      "source": [
        "y_train = to_categorical(y_train, 10)\n",
        "y_test = to_categorical(y_test, 10)"
      ]
    },
    {
      "cell_type": "markdown",
      "id": "83ba934c",
      "metadata": {
        "id": "83ba934c"
      },
      "source": [
        "#####  Step 3: Explore Dataset\n"
      ]
    },
    {
      "cell_type": "code",
      "execution_count": 6,
      "id": "62618195",
      "metadata": {
        "colab": {
          "base_uri": "https://localhost:8080/",
          "height": 452
        },
        "id": "62618195",
        "outputId": "19ba76fd-06f1-43a7-d848-726047b1927b"
      },
      "outputs": [
        {
          "output_type": "display_data",
          "data": {
            "text/plain": [
              "<Figure size 640x480 with 1 Axes>"
            ],
            "image/png": "[encoded data removed]"
          },
          "metadata": {}
        }
      ],
      "source": [
        "# Plot an example digit\n",
        "plt.imshow(X_train[0].reshape(28,28), cmap='gray')\n",
        "plt.title(\"Sample Digit\")\n",
        "plt.show()"
      ]
    },
    {
      "cell_type": "code",
      "execution_count": 7,
      "id": "57639cc5",
      "metadata": {
        "colab": {
          "base_uri": "https://localhost:8080/"
        },
        "id": "57639cc5",
        "outputId": "1eb47d7f-3e95-4ad9-c2d9-33d96f9d4d0e"
      },
      "outputs": [
        {
          "output_type": "stream",
          "name": "stdout",
          "text": [
            "Train shape: (60000, 28, 28, 1) (60000, 10)\n",
            "Test shape: (10000, 28, 28, 1) (10000, 10)\n"
          ]
        }
      ],
      "source": [
        "print(\"Train shape:\", X_train.shape, y_train.shape)\n",
        "print(\"Test shape:\", X_test.shape, y_test.shape)"
      ]
    },
    {
      "cell_type": "markdown",
      "id": "67d3e064",
      "metadata": {
        "id": "67d3e064"
      },
      "source": [
        "\n",
        "##### Step 4: Build CNN Model\n"
      ]
    },
    {
      "cell_type": "code",
      "execution_count": 8,
      "id": "3f6f6129",
      "metadata": {
        "id": "3f6f6129"
      },
      "outputs": [],
      "source": [
        "model = Sequential()"
      ]
    },
    {
      "cell_type": "markdown",
      "id": "f2cba339",
      "metadata": {
        "id": "f2cba339"
      },
      "source": [
        "##### TODO: Add a Conv2D layer with 32 filters, kernel_size=(3,3), activation='relu', input_shape=(28,28,1)\n"
      ]
    },
    {
      "cell_type": "code",
      "execution_count": 9,
      "id": "758e90ea",
      "metadata": {
        "colab": {
          "base_uri": "https://localhost:8080/"
        },
        "id": "758e90ea",
        "outputId": "afbe87db-0530-49ec-b1a4-88980d03759e"
      },
      "outputs": [
        {
          "output_type": "stream",
          "name": "stderr",
          "text": [
            "/usr/local/lib/python3.12/dist-packages/keras/src/layers/convolutional/base_conv.py:113: UserWarning: Do not pass an `input_shape`/`input_dim` argument to a layer. When using Sequential models, prefer using an `Input(shape)` object as the first layer in the model instead.\n",
            "  super().__init__(activity_regularizer=activity_regularizer, **kwargs)\n"
          ]
        }
      ],
      "source": [
        "model.add(Conv2D(32, kernel_size=(3,3), activation='relu', input_shape=(28,28,1)))"
      ]
    },
    {
      "cell_type": "markdown",
      "id": "9765eb26",
      "metadata": {
        "id": "9765eb26"
      },
      "source": [
        "##### TODO: Add a MaxPooling2D layer (pool_size=(2,2))\n"
      ]
    },
    {
      "cell_type": "code",
      "execution_count": 10,
      "id": "462921c4",
      "metadata": {
        "id": "462921c4"
      },
      "outputs": [],
      "source": [
        "model.add(MaxPooling2D(pool_size=(2,2)))"
      ]
    },
    {
      "cell_type": "markdown",
      "id": "01067861",
      "metadata": {
        "id": "01067861"
      },
      "source": [
        "##### TODO: Add another Conv2D layer with 64 filters and relu activation\n"
      ]
    },
    {
      "cell_type": "code",
      "execution_count": 11,
      "id": "d6ad62af",
      "metadata": {
        "id": "d6ad62af"
      },
      "outputs": [],
      "source": [
        "model.add(Conv2D(64, kernel_size=(3,3), activation='relu'))"
      ]
    },
    {
      "cell_type": "markdown",
      "id": "5efc5089",
      "metadata": {
        "id": "5efc5089"
      },
      "source": [
        "##### TODO: Add another MaxPooling2D layer"
      ]
    },
    {
      "cell_type": "code",
      "execution_count": 12,
      "id": "9f213e22",
      "metadata": {
        "id": "9f213e22"
      },
      "outputs": [],
      "source": [
        "model.add(MaxPooling2D(pool_size=(2,2)))"
      ]
    },
    {
      "cell_type": "markdown",
      "id": "7ae21941",
      "metadata": {
        "id": "7ae21941"
      },
      "source": [
        "##### TODO: Flatten the output"
      ]
    },
    {
      "cell_type": "code",
      "execution_count": 13,
      "id": "c5fc1fd2",
      "metadata": {
        "id": "c5fc1fd2"
      },
      "outputs": [],
      "source": [
        "model.add(Flatten())"
      ]
    },
    {
      "cell_type": "markdown",
      "id": "a8b44523",
      "metadata": {
        "id": "a8b44523"
      },
      "source": [
        "##### TODO: Add a Dense layer with 128 neurons and relu activation"
      ]
    },
    {
      "cell_type": "code",
      "execution_count": 14,
      "id": "a4ef38a5",
      "metadata": {
        "id": "a4ef38a5"
      },
      "outputs": [],
      "source": [
        "model.add(Dense(128, activation='relu'))"
      ]
    },
    {
      "cell_type": "markdown",
      "id": "ff04652c",
      "metadata": {
        "id": "ff04652c"
      },
      "source": [
        "##### TODO: Add Dropout layer (rate=0.5)"
      ]
    },
    {
      "cell_type": "code",
      "execution_count": 15,
      "id": "299c8652",
      "metadata": {
        "id": "299c8652"
      },
      "outputs": [],
      "source": [
        "model.add(Dropout(0.5))"
      ]
    },
    {
      "cell_type": "markdown",
      "id": "fe34c3df",
      "metadata": {
        "id": "fe34c3df"
      },
      "source": [
        "##### TODO: Add the output Dense layer with 10 neurons and softmax activation\n"
      ]
    },
    {
      "cell_type": "code",
      "execution_count": 16,
      "id": "c0ed64bf",
      "metadata": {
        "id": "c0ed64bf"
      },
      "outputs": [],
      "source": [
        "model.add(Dense(10, activation='softmax'))"
      ]
    },
    {
      "cell_type": "markdown",
      "id": "52d4f2b5",
      "metadata": {
        "id": "52d4f2b5"
      },
      "source": [
        "##### Compile the model"
      ]
    },
    {
      "cell_type": "code",
      "execution_count": 17,
      "id": "90102c03",
      "metadata": {
        "id": "90102c03"
      },
      "outputs": [],
      "source": [
        "model.compile(optimizer='adam',   # Choose optimizer,'adam'\n",
        "              loss='categorical_crossentropy',  # Choose loss function,'categorical_crossentropy'\n",
        "              metrics=['accuracy'])       # Choose metrics, 'accuracy'   # Choose metrics, 'accuracy'"
      ]
    },
    {
      "cell_type": "markdown",
      "id": "9d780b8c",
      "metadata": {
        "id": "9d780b8c"
      },
      "source": [
        "#####  Step 5: Train the Model\n",
        "\n"
      ]
    },
    {
      "cell_type": "code",
      "execution_count": 18,
      "id": "1a4725c3",
      "metadata": {
        "colab": {
          "base_uri": "https://localhost:8080/"
        },
        "id": "1a4725c3",
        "outputId": "534eed20-3aed-41fe-e0e2-72da5a03668a"
      },
      "outputs": [
        {
          "output_type": "stream",
          "name": "stdout",
          "text": [
            "Epoch 1/5\n",
            "\u001b[1m422/422\u001b[0m \u001b[32m━━━━━━━━━━━━━━━━━━━━\u001b[0m\u001b[37m\u001b[0m \u001b[1m43s\u001b[0m 96ms/step - accuracy: 0.7974 - loss: 0.6478 - val_accuracy: 0.9825 - val_loss: 0.0590\n",
            "Epoch 2/5\n",
            "\u001b[1m422/422\u001b[0m \u001b[32m━━━━━━━━━━━━━━━━━━━━\u001b[0m\u001b[37m\u001b[0m \u001b[1m39s\u001b[0m 92ms/step - accuracy: 0.9690 - loss: 0.1032 - val_accuracy: 0.9865 - val_loss: 0.0474\n",
            "Epoch 3/5\n",
            "\u001b[1m422/422\u001b[0m \u001b[32m━━━━━━━━━━━━━━━━━━━━\u001b[0m\u001b[37m\u001b[0m \u001b[1m38s\u001b[0m 91ms/step - accuracy: 0.9789 - loss: 0.0713 - val_accuracy: 0.9883 - val_loss: 0.0387\n",
            "Epoch 4/5\n",
            "\u001b[1m422/422\u001b[0m \u001b[32m━━━━━━━━━━━━━━━━━━━━\u001b[0m\u001b[37m\u001b[0m \u001b[1m41s\u001b[0m 92ms/step - accuracy: 0.9820 - loss: 0.0584 - val_accuracy: 0.9893 - val_loss: 0.0361\n",
            "Epoch 5/5\n",
            "\u001b[1m422/422\u001b[0m \u001b[32m━━━━━━━━━━━━━━━━━━━━\u001b[0m\u001b[37m\u001b[0m \u001b[1m39s\u001b[0m 91ms/step - accuracy: 0.9865 - loss: 0.0461 - val_accuracy: 0.9898 - val_loss: 0.0373\n"
          ]
        }
      ],
      "source": [
        "# Fit the model on training data -- 5 epochs, batch_size=128, validation_split=0.1\n",
        "history = model.fit(\n",
        "    X_train, y_train,\n",
        "    epochs=5,\n",
        "    batch_size=128,\n",
        "    validation_split=0.1\n",
        ")"
      ]
    },
    {
      "cell_type": "markdown",
      "id": "597fe112",
      "metadata": {
        "id": "597fe112"
      },
      "source": [
        "#####  Step 6: Evaluate the Model\n",
        "##### - Evaluate model on test data"
      ]
    },
    {
      "cell_type": "code",
      "execution_count": 19,
      "id": "e838e7cb",
      "metadata": {
        "colab": {
          "base_uri": "https://localhost:8080/"
        },
        "id": "e838e7cb",
        "outputId": "bcc5450c-bed2-461b-872d-ba9cd0a2c37d"
      },
      "outputs": [
        {
          "output_type": "stream",
          "name": "stdout",
          "text": [
            "Test Loss: 0.029724393039941788\n",
            "Test Accuracy: 0.9896000027656555\n"
          ]
        }
      ],
      "source": [
        "\n",
        "# Evaluate model on test data\n",
        "score = model.evaluate(X_test, y_test, verbose=0)\n",
        "print(\"Test Loss:\", score[0])\n",
        "print(\"Test Accuracy:\", score[1])"
      ]
    },
    {
      "cell_type": "markdown",
      "id": "0657c795",
      "metadata": {
        "id": "0657c795"
      },
      "source": [
        "#####  Step 7: Plot Training History\n",
        "##### - Plot training and validation accuracy"
      ]
    },
    {
      "cell_type": "code",
      "execution_count": 20,
      "id": "b8b08c8d",
      "metadata": {
        "colab": {
          "base_uri": "https://localhost:8080/",
          "height": 472
        },
        "id": "b8b08c8d",
        "outputId": "83487e00-3084-4d8e-b7a0-696eab57b8a1"
      },
      "outputs": [
        {
          "output_type": "display_data",
          "data": {
            "text/plain": [
              "<Figure size 640x480 with 1 Axes>"
            ],
            "image/png": "[encoded data removed]"
          },
          "metadata": {}
        }
      ],
      "source": [
        "plt.plot(history.history['accuracy'])\n",
        "plt.plot(history.history['val_accuracy'])\n",
        "plt.title(\"Model Accuracy\")\n",
        "plt.xlabel(\"Epoch\")\n",
        "plt.ylabel(\"Accuracy\")\n",
        "plt.legend([\"Train\", \"Validation\"])\n",
        "plt.show()"
      ]
    },
    {
      "cell_type": "markdown",
      "id": "67cf4a68",
      "metadata": {
        "id": "67cf4a68"
      },
      "source": [
        "##### - Plot training and validation loss curves"
      ]
    },
    {
      "cell_type": "code",
      "execution_count": 21,
      "id": "b4824cee",
      "metadata": {
        "colab": {
          "base_uri": "https://localhost:8080/",
          "height": 472
        },
        "id": "b4824cee",
        "outputId": "f216f286-e486-444a-a437-aa8be0a3d4a5"
      },
      "outputs": [
        {
          "output_type": "display_data",
          "data": {
            "text/plain": [
              "<Figure size 640x480 with 1 Axes>"
            ],
            "image/png": "[encoded data removed]"
          },
          "metadata": {}
        }
      ],
      "source": [
        "plt.plot(history.history['loss'])\n",
        "plt.plot(history.history['val_loss'])\n",
        "plt.title(\"Model Loss\")\n",
        "plt.xlabel(\"Epoch\")\n",
        "plt.ylabel(\"Loss\")\n",
        "plt.legend([\"Train\", \"Validation\"])\n",
        "plt.show()"
      ]
    },
    {
      "cell_type": "code",
      "source": [],
      "metadata": {
        "id": "O8uLstQa9py3"
      },
      "id": "O8uLstQa9py3",
      "execution_count": null,
      "outputs": []
    }
  ],
  "metadata": {
    "kernelspec": {
      "display_name": "base",
      "language": "python",
      "name": "python3"
    },
    "language_info": {
      "name": "python",
      "version": "3.12.4"
    },
    "colab": {
      "provenance": [],
      "include_colab_link": true
    }
  },
  "nbformat": 4,
  "nbformat_minor": 5
}